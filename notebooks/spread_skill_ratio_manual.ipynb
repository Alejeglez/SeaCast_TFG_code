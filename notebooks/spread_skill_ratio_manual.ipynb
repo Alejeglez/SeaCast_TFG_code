{
 "cells": [
  {
   "cell_type": "code",
   "execution_count": 1,
   "metadata": {},
   "outputs": [],
   "source": [
    "import dask\n",
    "import os \n",
    "\n",
    "src_path = os.path.abspath(os.path.join(os.getcwd(), '..'))\n",
    "os.chdir(src_path)\n",
    "\n",
    "import gc\n",
    "import tracemalloc\n",
    "import numpy as np\n",
    "import matplotlib.pyplot as plt\n",
    "from matplotlib.colors import Normalize\n",
    "from src.seacast_tools.np_loaders import TargetsFromNumpy, PredictionsFromNumpy\n",
    "from weatherbenchX.metrics import probabilistic\n",
    "from weatherbenchX.metrics import base as metrics_base\n",
    "from weatherbenchX import aggregation\n",
    "from src.seacast_tools.ensemble_loaders import EnsembleFromNpLoaders\n",
    "import pandas as pd\n",
    "import xarray as xr\n",
    "from matplotlib import gridspec"
   ]
  },
  {
   "cell_type": "code",
   "execution_count": 3,
   "metadata": {},
   "outputs": [],
   "source": [
    "def flatten_to_2d(datos, mask, shape=(300, 300)):\n",
    "    \"\"\"\n",
    "    Convierte un array 1D de datos en una matriz 2D usando una máscara.\n",
    "\n",
    "    :param datos: Array de datos en formato 1D.\n",
    "    :param mask: Máscara binaria en formato 1D.\n",
    "    :param shape: Dimensiones de salida de la matriz 2D.\n",
    "    :return: Matriz 2D con los valores de `datos` ubicados según `mask`.\n",
    "    \"\"\"\n",
    "    mask = mask.flatten()\n",
    "    temperature_map = np.zeros_like(mask, dtype=float)\n",
    "\n",
    "    j = 0\n",
    "    for i in range(len(mask)):\n",
    "        if mask[i] == 1:\n",
    "            temperature_map[i] = datos[j]\n",
    "            j += 1\n",
    "\n",
    "    return temperature_map.reshape(shape)\n",
    "\n",
    "def plot_temperature_map(temperature_map, cmap=\"inferno\"):\n",
    "    \"\"\"\n",
    "    Genera y muestra un mapa de temperatura.\n",
    "\n",
    "    :param temperature_map: Matriz 2D con los datos a visualizar.\n",
    "    :param cmap: Colormap para la visualización.\n",
    "    :param norm: Normalización de los valores para mejorar la escala de colores.\n",
    "    \"\"\"\n",
    "    plt.figure(figsize=(6, 6))\n",
    "\n",
    "    norm = Normalize(vmin=np.min(temperature_map[temperature_map != 0]),\n",
    "                        vmax=np.max(temperature_map))\n",
    "    plt.imshow(temperature_map, cmap=cmap, origin='lower', norm=norm)\n",
    "\n",
    "    plt.colorbar(label=\"Temperatura\")\n",
    "    plt.title(\"Mapa de Temperatura\")\n",
    "    plt.show()\n",
    "\n",
    "tracemalloc.start()\n",
    "mask = np.load(\"data/atlantic/static/sea_mask.npy\")"
   ]
  },
  {
   "cell_type": "code",
   "execution_count": 3,
   "metadata": {},
   "outputs": [],
   "source": [
    "dict_metric_names = {\n",
    "    \"crps.sst_temperature\": \"CRPS\",\n",
    "    \"rmse_unb.sst_temperature\": \"RMSE (sin sesgo)\",\n",
    "    \"spread_skill_ratio.sst_temperature\": \"Spread/skill\",\n",
    "    \"spread_skill_ratio_unb.sst_temperature\": \"Spread/skill (sin sesgo)\",\n",
    "    \"rmse.sst_temperature\": \"RMSE\",\n",
    "    \"mae.sst_temperature\": \"MAE\",\n",
    "    \"bias.sst_temperature\": \"Sesgo\",\n",
    "}"
   ]
  },
  {
   "cell_type": "code",
   "execution_count": 15,
   "metadata": {},
   "outputs": [],
   "source": [
    "metrics = {\n",
    "    \"spread_skill_ratio\": probabilistic.SpreadSkillRatio(skipna_ensemble=True),\n",
    "    \"spread_skill_ratio_unb\": probabilistic.UnbiasedSpreadSkillRatio(skipna_ensemble=True),\n",
    "}\n",
    "\n",
    "aggregator = aggregation.Aggregator(\n",
    "  reduce_dims=['latitude', 'longitude'], skipna=True\n",
    ")"
   ]
  },
  {
   "cell_type": "code",
   "execution_count": 14,
   "metadata": {},
   "outputs": [],
   "source": [
    "def get_skill_spread_ratio(mse, std):\n",
    "    return np.sqrt(std) / np.sqrt(mse)\n",
    "\n",
    "def get_crps(skill, spread):\n",
    "    return skill - 0.5 * spread\n",
    "\n",
    "def get_rmse_unb(mse):\n",
    "    return np.sqrt(mse)\n",
    "\n",
    "def get_metrics_probabilistic(statistics):\n",
    "    var = statistics.mean_statistics()\n",
    "\n",
    "    mse_unbiased = var[\"UnbiasedEnsembleMeanSquaredError_number_skipna_ensemble_True\"]['sst_temperature']\n",
    "    mse_biased = var[\"SquaredError_predictions_ensemble_mean_self._ensemble_dim='number'_self._skipna=True\"]['sst_temperature']\n",
    "    spread = var[\"EnsembleVariance_number_skipna_ensemble_True\"]['sst_temperature']\n",
    "\n",
    "    spread_skill_ratio_unb = get_skill_spread_ratio(mse_unbiased, spread)\n",
    "    spread_skill_ratio = get_skill_spread_ratio(mse_biased, spread)\n",
    "\n",
    "    ds = xr.Dataset({\n",
    "        \"spread_skill_ratio.sst_temperature\": spread_skill_ratio,\n",
    "        \"spread_skill_ratio_unb.sst_temperature\": spread_skill_ratio_unb,\n",
    "    })\n",
    "\n",
    "    if \"lead_time\" in ds.coords:\n",
    "        ds[\"lead_time\"] = ds[\"lead_time\"].astype(\"timedelta64[D]\")\n",
    "\n",
    "    return ds"
   ]
  },
  {
   "cell_type": "code",
   "execution_count": 13,
   "metadata": {},
   "outputs": [],
   "source": [
    "variables = [\"sst_temperature\"]\n",
    "directory = r\"data\\atlantic\\samples\\test\"\n",
    "extra_variables = [\"coordinates\", \"mask\"]\n",
    "extra_files = [r\"data\\atlantic\\static\\coordinates.npy\", r\"data\\atlantic\\static\\sea_mask.npy\"]    "
   ]
  },
  {
   "cell_type": "code",
   "execution_count": 12,
   "metadata": {},
   "outputs": [],
   "source": [
    "def process_and_save_metrics(date_ranges, year, noise_type, directories):\n",
    "    all_metrics = []\n",
    "    all_statistics = []\n",
    "    \n",
    "    for date_range in date_ranges:\n",
    "        print(f\"Procesando rango de fechas: {date_range[0]} a {date_range[1]}\")\n",
    "        loaders = []\n",
    "        for directory in directories:\n",
    "            predictions = PredictionsFromNumpy(\n",
    "                path=directory,\n",
    "                variables=variables,\n",
    "                extra_variables=extra_variables,\n",
    "                extra_files=extra_files,\n",
    "                dates=date_range\n",
    "            )\n",
    "            loaders.append(predictions)\n",
    "\n",
    "        ensemble = EnsembleFromNpLoaders(loaders=loaders)\n",
    "        predictions_dataset = ensemble.build_ensemble()\n",
    "\n",
    "        directory = r\"data\\atlantic\\samples\\test\"\n",
    "        \n",
    "        targets = TargetsFromNumpy(\n",
    "            path=directory,\n",
    "            variables=variables,\n",
    "            extra_variables=extra_variables,\n",
    "            extra_files=extra_files,\n",
    "            dates=date_range\n",
    "        )\n",
    "        targets_dataset = targets.load_chunk()\n",
    "        \n",
    "        statistics = metrics_base.compute_unique_statistics_for_all_metrics(\n",
    "            metrics, predictions_dataset, targets_dataset\n",
    "        )\n",
    "\n",
    "        aggregation_state = aggregator.aggregate_statistics(statistics)\n",
    "        dataset_metrics = get_metrics_probabilistic(aggregation_state)\n",
    "\n",
    "        dataset_metrics[\"lead_time\"] = dataset_metrics[\"lead_time\"].astype(\"timedelta64[D]\")\n",
    "\n",
    "        all_metrics.append(dataset_metrics)\n",
    "        all_statistics.append(statistics)\n",
    "\n",
    "        del predictions_dataset, targets_dataset, statistics, aggregation_state, dataset_metrics, ensemble\n",
    "        gc.collect()\n",
    "\n",
    "    combined_metrics = xr.concat(all_metrics, dim=\"init_time\")\n",
    "    combined_metrics.astype(np.float32).to_netcdf(f\"data/atlantic/predictions/ensemble_{noise_type}_{year}_manual.nc\")"
   ]
  },
  {
   "cell_type": "markdown",
   "metadata": {},
   "source": [
    "#### Pruebas Gaussian (0.1)"
   ]
  },
  {
   "cell_type": "code",
   "execution_count": 8,
   "metadata": {},
   "outputs": [],
   "source": [
    "directories_gaussian = [r\"data\\atlantic\\predictions\\gaussian\\run-20250525_134738-chih23im\\files\\predictions\", r\"data\\atlantic\\predictions\\gaussian\\run-20250525_161837-5n7qh3vq\\files\\predictions\", r\"data\\atlantic\\predictions\\gaussian\\run-20250525_202636-9ucmeenc\\files\\predictions\", r\"data\\atlantic\\predictions\\gaussian\\run-20250526_001455-nfmwznoc\\files\\predictions\",\n",
    "r\"data\\atlantic\\predictions\\gaussian\\run-20250527_190605-gh4g5mks\\files\\predictions\"] \n",
    "\n",
    "date_ranges_2022 = [\n",
    "    (pd.Timestamp(\"2022-01-01\"), pd.Timestamp(\"2022-03-31\")),\n",
    "    (pd.Timestamp(\"2022-04-01\"), pd.Timestamp(\"2022-06-30\")),\n",
    "    (pd.Timestamp(\"2022-07-01\"), pd.Timestamp(\"2022-09-30\")),\n",
    "    (pd.Timestamp(\"2022-10-01\"), pd.Timestamp(\"2022-12-31\"))\n",
    "]\n",
    "\n",
    "date_ranges_2023 = [\n",
    "    (pd.Timestamp(\"2023-01-01\"), pd.Timestamp(\"2023-03-31\")),\n",
    "    (pd.Timestamp(\"2023-04-01\"), pd.Timestamp(\"2023-06-30\")),\n",
    "    (pd.Timestamp(\"2023-07-01\"), pd.Timestamp(\"2023-09-08\")),\n",
    "    (pd.Timestamp(\"2023-09-09\"), pd.Timestamp(\"2023-12-17\"))\n",
    "]"
   ]
  },
  {
   "cell_type": "code",
   "execution_count": 9,
   "metadata": {},
   "outputs": [
    {
     "name": "stdout",
     "output_type": "stream",
     "text": [
      "Procesando rango de fechas: 2022-01-01 00:00:00 a 2022-03-31 00:00:00\n",
      "Loaded 88 data entries from data\\atlantic\\predictions\\gaussian\\run-20250525_134738-chih23im\\files\\predictions\n"
     ]
    },
    {
     "name": "stdout",
     "output_type": "stream",
     "text": [
      "Loaded 88 data entries from data\\atlantic\\predictions\\gaussian\\run-20250525_161837-5n7qh3vq\\files\\predictions\n",
      "Loaded 88 data entries from data\\atlantic\\predictions\\gaussian\\run-20250525_202636-9ucmeenc\\files\\predictions\n",
      "Loaded 88 data entries from data\\atlantic\\predictions\\gaussian\\run-20250526_001455-nfmwznoc\\files\\predictions\n",
      "Loaded 88 data entries from data\\atlantic\\predictions\\gaussian\\run-20250527_190605-gh4g5mks\\files\\predictions\n",
      "Loaded 88 data entries from data\\atlantic\\samples\\test\n",
      "Procesando rango de fechas: 2022-04-01 00:00:00 a 2022-06-30 00:00:00\n",
      "Loaded 89 data entries from data\\atlantic\\predictions\\gaussian\\run-20250525_134738-chih23im\\files\\predictions\n",
      "Loaded 89 data entries from data\\atlantic\\predictions\\gaussian\\run-20250525_161837-5n7qh3vq\\files\\predictions\n",
      "Loaded 89 data entries from data\\atlantic\\predictions\\gaussian\\run-20250525_202636-9ucmeenc\\files\\predictions\n",
      "Loaded 89 data entries from data\\atlantic\\predictions\\gaussian\\run-20250526_001455-nfmwznoc\\files\\predictions\n",
      "Loaded 89 data entries from data\\atlantic\\predictions\\gaussian\\run-20250527_190605-gh4g5mks\\files\\predictions\n",
      "Loaded 89 data entries from data\\atlantic\\samples\\test\n",
      "Procesando rango de fechas: 2022-07-01 00:00:00 a 2022-09-30 00:00:00\n",
      "Loaded 90 data entries from data\\atlantic\\predictions\\gaussian\\run-20250525_134738-chih23im\\files\\predictions\n",
      "Loaded 90 data entries from data\\atlantic\\predictions\\gaussian\\run-20250525_161837-5n7qh3vq\\files\\predictions\n",
      "Loaded 90 data entries from data\\atlantic\\predictions\\gaussian\\run-20250525_202636-9ucmeenc\\files\\predictions\n",
      "Loaded 90 data entries from data\\atlantic\\predictions\\gaussian\\run-20250526_001455-nfmwznoc\\files\\predictions\n",
      "Loaded 90 data entries from data\\atlantic\\predictions\\gaussian\\run-20250527_190605-gh4g5mks\\files\\predictions\n",
      "Loaded 90 data entries from data\\atlantic\\samples\\test\n",
      "Procesando rango de fechas: 2022-10-01 00:00:00 a 2022-12-31 00:00:00\n",
      "Loaded 90 data entries from data\\atlantic\\predictions\\gaussian\\run-20250525_134738-chih23im\\files\\predictions\n",
      "Loaded 90 data entries from data\\atlantic\\predictions\\gaussian\\run-20250525_161837-5n7qh3vq\\files\\predictions\n",
      "Loaded 90 data entries from data\\atlantic\\predictions\\gaussian\\run-20250525_202636-9ucmeenc\\files\\predictions\n",
      "Loaded 90 data entries from data\\atlantic\\predictions\\gaussian\\run-20250526_001455-nfmwznoc\\files\\predictions\n",
      "Loaded 90 data entries from data\\atlantic\\predictions\\gaussian\\run-20250527_190605-gh4g5mks\\files\\predictions\n",
      "Loaded 90 data entries from data\\atlantic\\samples\\test\n"
     ]
    }
   ],
   "source": [
    "process_and_save_metrics(date_ranges_2022, \"2022\", \"gaussian\", directories_gaussian)"
   ]
  },
  {
   "cell_type": "code",
   "execution_count": 10,
   "metadata": {},
   "outputs": [
    {
     "name": "stdout",
     "output_type": "stream",
     "text": [
      "Procesando rango de fechas: 2023-01-01 00:00:00 a 2023-03-31 00:00:00\n",
      "Loaded 88 data entries from data\\atlantic\\predictions\\gaussian\\run-20250525_134738-chih23im\\files\\predictions\n",
      "Loaded 88 data entries from data\\atlantic\\predictions\\gaussian\\run-20250525_161837-5n7qh3vq\\files\\predictions\n",
      "Loaded 88 data entries from data\\atlantic\\predictions\\gaussian\\run-20250525_202636-9ucmeenc\\files\\predictions\n",
      "Loaded 88 data entries from data\\atlantic\\predictions\\gaussian\\run-20250526_001455-nfmwznoc\\files\\predictions\n",
      "Loaded 88 data entries from data\\atlantic\\predictions\\gaussian\\run-20250527_190605-gh4g5mks\\files\\predictions\n",
      "Loaded 88 data entries from data\\atlantic\\samples\\test\n",
      "Procesando rango de fechas: 2023-04-01 00:00:00 a 2023-06-30 00:00:00\n",
      "Loaded 89 data entries from data\\atlantic\\predictions\\gaussian\\run-20250525_134738-chih23im\\files\\predictions\n",
      "Loaded 89 data entries from data\\atlantic\\predictions\\gaussian\\run-20250525_161837-5n7qh3vq\\files\\predictions\n",
      "Loaded 89 data entries from data\\atlantic\\predictions\\gaussian\\run-20250525_202636-9ucmeenc\\files\\predictions\n",
      "Loaded 89 data entries from data\\atlantic\\predictions\\gaussian\\run-20250526_001455-nfmwznoc\\files\\predictions\n",
      "Loaded 89 data entries from data\\atlantic\\predictions\\gaussian\\run-20250527_190605-gh4g5mks\\files\\predictions\n",
      "Loaded 89 data entries from data\\atlantic\\samples\\test\n",
      "Procesando rango de fechas: 2023-07-01 00:00:00 a 2023-09-08 00:00:00\n",
      "Loaded 68 data entries from data\\atlantic\\predictions\\gaussian\\run-20250525_134738-chih23im\\files\\predictions\n",
      "Loaded 68 data entries from data\\atlantic\\predictions\\gaussian\\run-20250525_161837-5n7qh3vq\\files\\predictions\n",
      "Loaded 68 data entries from data\\atlantic\\predictions\\gaussian\\run-20250525_202636-9ucmeenc\\files\\predictions\n",
      "Loaded 68 data entries from data\\atlantic\\predictions\\gaussian\\run-20250526_001455-nfmwznoc\\files\\predictions\n",
      "Loaded 68 data entries from data\\atlantic\\predictions\\gaussian\\run-20250527_190605-gh4g5mks\\files\\predictions\n",
      "Loaded 68 data entries from data\\atlantic\\samples\\test\n",
      "Procesando rango de fechas: 2023-09-09 00:00:00 a 2023-12-17 00:00:00\n",
      "Loaded 98 data entries from data\\atlantic\\predictions\\gaussian\\run-20250525_134738-chih23im\\files\\predictions\n",
      "Loaded 98 data entries from data\\atlantic\\predictions\\gaussian\\run-20250525_161837-5n7qh3vq\\files\\predictions\n",
      "Loaded 98 data entries from data\\atlantic\\predictions\\gaussian\\run-20250525_202636-9ucmeenc\\files\\predictions\n",
      "Loaded 98 data entries from data\\atlantic\\predictions\\gaussian\\run-20250526_001455-nfmwznoc\\files\\predictions\n",
      "Loaded 98 data entries from data\\atlantic\\predictions\\gaussian\\run-20250527_190605-gh4g5mks\\files\\predictions\n",
      "Loaded 98 data entries from data\\atlantic\\samples\\test\n"
     ]
    }
   ],
   "source": [
    "process_and_save_metrics(date_ranges_2023, \"2023\", \"gaussian\", directories_gaussian)"
   ]
  },
  {
   "cell_type": "code",
   "execution_count": 2,
   "metadata": {},
   "outputs": [
    {
     "name": "stderr",
     "output_type": "stream",
     "text": [
      "C:\\Users\\Alejandro\\AppData\\Local\\Temp\\ipykernel_21392\\4180575493.py:1: FutureWarning: In a future version of xarray decode_timedelta will default to False rather than None. To silence this warning, set decode_timedelta to True, False, or a 'CFTimedeltaCoder' instance.\n",
      "  metrics_2022 = xr.open_dataset(\"data/atlantic/predictions/ensemble_gaussian_2022_manual.nc\")\n",
      "C:\\Users\\Alejandro\\AppData\\Local\\Temp\\ipykernel_21392\\4180575493.py:2: FutureWarning: In a future version of xarray decode_timedelta will default to False rather than None. To silence this warning, set decode_timedelta to True, False, or a 'CFTimedeltaCoder' instance.\n",
      "  metrics_2023 = xr.open_dataset(\"data/atlantic/predictions/ensemble_gaussian_2023_manual.nc\")\n"
     ]
    }
   ],
   "source": [
    "metrics_2022 = xr.open_dataset(\"data/atlantic/predictions/ensemble_gaussian_2022_manual.nc\")\n",
    "metrics_2023 = xr.open_dataset(\"data/atlantic/predictions/ensemble_gaussian_2023_manual.nc\")"
   ]
  },
  {
   "cell_type": "code",
   "execution_count": 12,
   "metadata": {},
   "outputs": [],
   "source": [
    "combined_metrics_gaussian = xr.concat([metrics_2022, metrics_2023], dim=\"init_time\")\n",
    "\n",
    "combined_metrics_gaussian.to_netcdf(\"data/atlantic/predictions/metrics_combined_gaussian_manual.nc\")"
   ]
  },
  {
   "cell_type": "markdown",
   "metadata": {},
   "source": [
    "#### Pruebas Gaussian (0.01)"
   ]
  },
  {
   "cell_type": "markdown",
   "metadata": {},
   "source": [
    "#### Pruebas Gaussian (0.01)"
   ]
  },
  {
   "cell_type": "code",
   "execution_count": 16,
   "metadata": {},
   "outputs": [],
   "source": [
    "date_ranges_2022 = [\n",
    "    (pd.Timestamp(\"2022-01-01\"), pd.Timestamp(\"2022-03-31\")),\n",
    "    (pd.Timestamp(\"2022-04-01\"), pd.Timestamp(\"2022-06-30\")),\n",
    "    (pd.Timestamp(\"2022-07-01\"), pd.Timestamp(\"2022-09-30\")),\n",
    "    (pd.Timestamp(\"2022-10-01\"), pd.Timestamp(\"2022-12-31\"))\n",
    "]\n",
    "\n",
    "date_ranges_2023 = [\n",
    "    (pd.Timestamp(\"2023-01-01\"), pd.Timestamp(\"2023-03-31\")),\n",
    "    (pd.Timestamp(\"2023-04-01\"), pd.Timestamp(\"2023-06-30\")),\n",
    "    (pd.Timestamp(\"2023-07-01\"), pd.Timestamp(\"2023-09-08\")),\n",
    "    (pd.Timestamp(\"2023-09-09\"), pd.Timestamp(\"2023-12-17\"))\n",
    "]\n",
    "\n",
    "directories_gaussian = [r\"data\\atlantic\\predictions\\gaussian_01\\run-20250622_022313-61kverwu\\files\\predictions\", r\"data\\atlantic\\predictions\\gaussian_01\\run-20250622_105157-81a2hgj5\\files\\predictions\", r\"data\\atlantic\\predictions\\gaussian_01\\run-20250622_151113-ye4zg4wy\\files\\predictions\", r\"data\\atlantic\\predictions\\gaussian_01\\run-20250622_174610-d8lg34hb\\files\\predictions\",\n",
    "r\"data\\atlantic\\predictions\\gaussian_01\\run-20250622_201726-dfy7vvwy\\files\\predictions\"] "
   ]
  },
  {
   "cell_type": "code",
   "execution_count": 17,
   "metadata": {},
   "outputs": [
    {
     "name": "stdout",
     "output_type": "stream",
     "text": [
      "Procesando rango de fechas: 2022-01-01 00:00:00 a 2022-03-31 00:00:00\n",
      "Loaded 88 data entries from data\\atlantic\\predictions\\gaussian_01\\run-20250622_022313-61kverwu\\files\\predictions\n",
      "Loaded 88 data entries from data\\atlantic\\predictions\\gaussian_01\\run-20250622_105157-81a2hgj5\\files\\predictions\n",
      "Loaded 88 data entries from data\\atlantic\\predictions\\gaussian_01\\run-20250622_151113-ye4zg4wy\\files\\predictions\n",
      "Loaded 88 data entries from data\\atlantic\\predictions\\gaussian_01\\run-20250622_174610-d8lg34hb\\files\\predictions\n",
      "Loaded 88 data entries from data\\atlantic\\predictions\\gaussian_01\\run-20250622_201726-dfy7vvwy\\files\\predictions\n",
      "Loaded 88 data entries from data\\atlantic\\samples\\test\n",
      "Procesando rango de fechas: 2022-04-01 00:00:00 a 2022-06-30 00:00:00\n",
      "Loaded 89 data entries from data\\atlantic\\predictions\\gaussian_01\\run-20250622_022313-61kverwu\\files\\predictions\n",
      "Loaded 89 data entries from data\\atlantic\\predictions\\gaussian_01\\run-20250622_105157-81a2hgj5\\files\\predictions\n",
      "Loaded 89 data entries from data\\atlantic\\predictions\\gaussian_01\\run-20250622_151113-ye4zg4wy\\files\\predictions\n",
      "Loaded 89 data entries from data\\atlantic\\predictions\\gaussian_01\\run-20250622_174610-d8lg34hb\\files\\predictions\n",
      "Loaded 89 data entries from data\\atlantic\\predictions\\gaussian_01\\run-20250622_201726-dfy7vvwy\\files\\predictions\n",
      "Loaded 89 data entries from data\\atlantic\\samples\\test\n",
      "Procesando rango de fechas: 2022-07-01 00:00:00 a 2022-09-30 00:00:00\n",
      "Loaded 90 data entries from data\\atlantic\\predictions\\gaussian_01\\run-20250622_022313-61kverwu\\files\\predictions\n",
      "Loaded 90 data entries from data\\atlantic\\predictions\\gaussian_01\\run-20250622_105157-81a2hgj5\\files\\predictions\n",
      "Loaded 90 data entries from data\\atlantic\\predictions\\gaussian_01\\run-20250622_151113-ye4zg4wy\\files\\predictions\n",
      "Loaded 90 data entries from data\\atlantic\\predictions\\gaussian_01\\run-20250622_174610-d8lg34hb\\files\\predictions\n",
      "Loaded 90 data entries from data\\atlantic\\predictions\\gaussian_01\\run-20250622_201726-dfy7vvwy\\files\\predictions\n",
      "Loaded 90 data entries from data\\atlantic\\samples\\test\n",
      "Procesando rango de fechas: 2022-10-01 00:00:00 a 2022-12-31 00:00:00\n",
      "Loaded 90 data entries from data\\atlantic\\predictions\\gaussian_01\\run-20250622_022313-61kverwu\\files\\predictions\n",
      "Loaded 90 data entries from data\\atlantic\\predictions\\gaussian_01\\run-20250622_105157-81a2hgj5\\files\\predictions\n",
      "Loaded 90 data entries from data\\atlantic\\predictions\\gaussian_01\\run-20250622_151113-ye4zg4wy\\files\\predictions\n",
      "Loaded 90 data entries from data\\atlantic\\predictions\\gaussian_01\\run-20250622_174610-d8lg34hb\\files\\predictions\n",
      "Loaded 90 data entries from data\\atlantic\\predictions\\gaussian_01\\run-20250622_201726-dfy7vvwy\\files\\predictions\n",
      "Loaded 90 data entries from data\\atlantic\\samples\\test\n"
     ]
    }
   ],
   "source": [
    "process_and_save_metrics(date_ranges_2022, \"2022\", \"gaussian_01\", directories_gaussian)"
   ]
  },
  {
   "cell_type": "code",
   "execution_count": 18,
   "metadata": {},
   "outputs": [
    {
     "name": "stdout",
     "output_type": "stream",
     "text": [
      "Procesando rango de fechas: 2023-01-01 00:00:00 a 2023-03-31 00:00:00\n"
     ]
    },
    {
     "name": "stdout",
     "output_type": "stream",
     "text": [
      "Loaded 88 data entries from data\\atlantic\\predictions\\gaussian_01\\run-20250622_022313-61kverwu\\files\\predictions\n",
      "Loaded 88 data entries from data\\atlantic\\predictions\\gaussian_01\\run-20250622_105157-81a2hgj5\\files\\predictions\n",
      "Loaded 88 data entries from data\\atlantic\\predictions\\gaussian_01\\run-20250622_151113-ye4zg4wy\\files\\predictions\n",
      "Loaded 88 data entries from data\\atlantic\\predictions\\gaussian_01\\run-20250622_174610-d8lg34hb\\files\\predictions\n",
      "Loaded 88 data entries from data\\atlantic\\predictions\\gaussian_01\\run-20250622_201726-dfy7vvwy\\files\\predictions\n",
      "Loaded 88 data entries from data\\atlantic\\samples\\test\n",
      "Procesando rango de fechas: 2023-04-01 00:00:00 a 2023-06-30 00:00:00\n",
      "Loaded 89 data entries from data\\atlantic\\predictions\\gaussian_01\\run-20250622_022313-61kverwu\\files\\predictions\n",
      "Loaded 89 data entries from data\\atlantic\\predictions\\gaussian_01\\run-20250622_105157-81a2hgj5\\files\\predictions\n",
      "Loaded 89 data entries from data\\atlantic\\predictions\\gaussian_01\\run-20250622_151113-ye4zg4wy\\files\\predictions\n",
      "Loaded 89 data entries from data\\atlantic\\predictions\\gaussian_01\\run-20250622_174610-d8lg34hb\\files\\predictions\n",
      "Loaded 89 data entries from data\\atlantic\\predictions\\gaussian_01\\run-20250622_201726-dfy7vvwy\\files\\predictions\n",
      "Loaded 89 data entries from data\\atlantic\\samples\\test\n",
      "Procesando rango de fechas: 2023-07-01 00:00:00 a 2023-09-08 00:00:00\n",
      "Loaded 68 data entries from data\\atlantic\\predictions\\gaussian_01\\run-20250622_022313-61kverwu\\files\\predictions\n",
      "Loaded 68 data entries from data\\atlantic\\predictions\\gaussian_01\\run-20250622_105157-81a2hgj5\\files\\predictions\n",
      "Loaded 68 data entries from data\\atlantic\\predictions\\gaussian_01\\run-20250622_151113-ye4zg4wy\\files\\predictions\n",
      "Loaded 68 data entries from data\\atlantic\\predictions\\gaussian_01\\run-20250622_174610-d8lg34hb\\files\\predictions\n",
      "Loaded 68 data entries from data\\atlantic\\predictions\\gaussian_01\\run-20250622_201726-dfy7vvwy\\files\\predictions\n",
      "Loaded 68 data entries from data\\atlantic\\samples\\test\n",
      "Procesando rango de fechas: 2023-09-09 00:00:00 a 2023-12-17 00:00:00\n",
      "Loaded 98 data entries from data\\atlantic\\predictions\\gaussian_01\\run-20250622_022313-61kverwu\\files\\predictions\n",
      "Loaded 98 data entries from data\\atlantic\\predictions\\gaussian_01\\run-20250622_105157-81a2hgj5\\files\\predictions\n",
      "Loaded 98 data entries from data\\atlantic\\predictions\\gaussian_01\\run-20250622_151113-ye4zg4wy\\files\\predictions\n",
      "Loaded 98 data entries from data\\atlantic\\predictions\\gaussian_01\\run-20250622_174610-d8lg34hb\\files\\predictions\n",
      "Loaded 98 data entries from data\\atlantic\\predictions\\gaussian_01\\run-20250622_201726-dfy7vvwy\\files\\predictions\n",
      "Loaded 98 data entries from data\\atlantic\\samples\\test\n"
     ]
    }
   ],
   "source": [
    "process_and_save_metrics(date_ranges_2023, \"2023\", \"gaussian_01\", directories_gaussian)"
   ]
  },
  {
   "cell_type": "code",
   "execution_count": 3,
   "metadata": {},
   "outputs": [
    {
     "name": "stderr",
     "output_type": "stream",
     "text": [
      "C:\\Users\\Alejandro\\AppData\\Local\\Temp\\ipykernel_21392\\2525855129.py:1: FutureWarning: In a future version of xarray decode_timedelta will default to False rather than None. To silence this warning, set decode_timedelta to True, False, or a 'CFTimedeltaCoder' instance.\n",
      "  metrics_2022 = xr.open_dataset(\"data/atlantic/predictions/ensemble_gaussian_01_2022_manual.nc\")\n",
      "C:\\Users\\Alejandro\\AppData\\Local\\Temp\\ipykernel_21392\\2525855129.py:2: FutureWarning: In a future version of xarray decode_timedelta will default to False rather than None. To silence this warning, set decode_timedelta to True, False, or a 'CFTimedeltaCoder' instance.\n",
      "  metrics_2023 = xr.open_dataset(\"data/atlantic/predictions/ensemble_gaussian_01_2023_manual.nc\")\n"
     ]
    }
   ],
   "source": [
    "metrics_2022 = xr.open_dataset(\"data/atlantic/predictions/ensemble_gaussian_01_2022_manual.nc\")\n",
    "metrics_2023 = xr.open_dataset(\"data/atlantic/predictions/ensemble_gaussian_01_2023_manual.nc\")"
   ]
  },
  {
   "cell_type": "code",
   "execution_count": 4,
   "metadata": {},
   "outputs": [],
   "source": [
    "combined_metrics_gaussian = xr.concat([metrics_2022, metrics_2023], dim=\"init_time\")\n",
    "\n",
    "combined_metrics_gaussian.to_netcdf(\"data/atlantic/predictions/metrics_combined_gaussian_01_manual.nc\")"
   ]
  },
  {
   "cell_type": "markdown",
   "metadata": {},
   "source": [
    "#### Pruebas 3d 2x3x3"
   ]
  },
  {
   "cell_type": "code",
   "execution_count": 18,
   "metadata": {},
   "outputs": [],
   "source": [
    "directories_perlin_3_3 = [r\"data\\atlantic\\predictions\\perlin 3d 3_3\\run-20250627_012546-3jljvvek\\files\\predictions\", r\"data\\atlantic\\predictions\\perlin 3d 3_3\\run-20250627_100731-9kdck9mt\\files\\predictions\", r\"data\\atlantic\\predictions\\perlin 3d 3_3\\run-20250627_163627-bqpbs0zk\\files\\predictions\", r\"data\\atlantic\\predictions\\perlin 3d 3_3\\run-20250627_194954-dommgq1v\\files\\predictions\",\n",
    "r\"data\\atlantic\\predictions\\perlin 3d 3_3\\run-20250628_104937-sg864q0p\\files\\predictions\"] \n",
    "\n",
    "date_ranges_2022 = [\n",
    "    (pd.Timestamp(\"2022-01-01\"), pd.Timestamp(\"2022-03-31\")),\n",
    "    (pd.Timestamp(\"2022-04-01\"), pd.Timestamp(\"2022-06-30\")),\n",
    "    (pd.Timestamp(\"2022-07-01\"), pd.Timestamp(\"2022-09-30\")),\n",
    "    (pd.Timestamp(\"2022-10-01\"), pd.Timestamp(\"2022-12-31\"))\n",
    "]\n",
    "\n",
    "date_ranges_2023 = [\n",
    "    (pd.Timestamp(\"2023-01-01\"), pd.Timestamp(\"2023-03-31\")),\n",
    "    (pd.Timestamp(\"2023-04-01\"), pd.Timestamp(\"2023-06-30\")),\n",
    "    (pd.Timestamp(\"2023-07-01\"), pd.Timestamp(\"2023-09-08\")),\n",
    "    (pd.Timestamp(\"2023-09-09\"), pd.Timestamp(\"2023-12-17\"))\n",
    "]"
   ]
  },
  {
   "cell_type": "code",
   "execution_count": 19,
   "metadata": {},
   "outputs": [],
   "source": [
    "variables = [\"sst_temperature\"]\n",
    "directory = r\"data\\atlantic\\samples\\test\"\n",
    "extra_variables = [\"coordinates\", \"mask\"]\n",
    "extra_files = [r\"data\\atlantic\\static\\coordinates.npy\", r\"data\\atlantic\\static\\sea_mask.npy\"]    "
   ]
  },
  {
   "cell_type": "code",
   "execution_count": 20,
   "metadata": {},
   "outputs": [
    {
     "name": "stdout",
     "output_type": "stream",
     "text": [
      "Procesando rango de fechas: 2022-01-01 00:00:00 a 2022-03-31 00:00:00\n"
     ]
    },
    {
     "name": "stdout",
     "output_type": "stream",
     "text": [
      "Loaded 88 data entries from data\\atlantic\\predictions\\perlin 3d 3_3\\run-20250627_012546-3jljvvek\\files\\predictions\n",
      "Loaded 88 data entries from data\\atlantic\\predictions\\perlin 3d 3_3\\run-20250627_100731-9kdck9mt\\files\\predictions\n",
      "Loaded 88 data entries from data\\atlantic\\predictions\\perlin 3d 3_3\\run-20250627_163627-bqpbs0zk\\files\\predictions\n",
      "Loaded 88 data entries from data\\atlantic\\predictions\\perlin 3d 3_3\\run-20250627_194954-dommgq1v\\files\\predictions\n",
      "Loaded 88 data entries from data\\atlantic\\predictions\\perlin 3d 3_3\\run-20250628_104937-sg864q0p\\files\\predictions\n",
      "Loaded 88 data entries from data\\atlantic\\samples\\test\n"
     ]
    },
    {
     "name": "stderr",
     "output_type": "stream",
     "text": [
      "c:\\ProgramData\\miniconda3\\envs\\tfg\\lib\\site-packages\\xarray\\core\\computation.py:824: RuntimeWarning: invalid value encountered in sqrt\n",
      "  result_data = func(*input_data)\n"
     ]
    },
    {
     "name": "stdout",
     "output_type": "stream",
     "text": [
      "Procesando rango de fechas: 2022-04-01 00:00:00 a 2022-06-30 00:00:00\n",
      "Loaded 89 data entries from data\\atlantic\\predictions\\perlin 3d 3_3\\run-20250627_012546-3jljvvek\\files\\predictions\n",
      "Loaded 89 data entries from data\\atlantic\\predictions\\perlin 3d 3_3\\run-20250627_100731-9kdck9mt\\files\\predictions\n",
      "Loaded 89 data entries from data\\atlantic\\predictions\\perlin 3d 3_3\\run-20250627_163627-bqpbs0zk\\files\\predictions\n",
      "Loaded 89 data entries from data\\atlantic\\predictions\\perlin 3d 3_3\\run-20250627_194954-dommgq1v\\files\\predictions\n",
      "Loaded 89 data entries from data\\atlantic\\predictions\\perlin 3d 3_3\\run-20250628_104937-sg864q0p\\files\\predictions\n",
      "Loaded 89 data entries from data\\atlantic\\samples\\test\n"
     ]
    },
    {
     "name": "stderr",
     "output_type": "stream",
     "text": [
      "c:\\ProgramData\\miniconda3\\envs\\tfg\\lib\\site-packages\\xarray\\core\\computation.py:824: RuntimeWarning: invalid value encountered in sqrt\n",
      "  result_data = func(*input_data)\n"
     ]
    },
    {
     "name": "stdout",
     "output_type": "stream",
     "text": [
      "Procesando rango de fechas: 2022-07-01 00:00:00 a 2022-09-30 00:00:00\n",
      "Loaded 90 data entries from data\\atlantic\\predictions\\perlin 3d 3_3\\run-20250627_012546-3jljvvek\\files\\predictions\n",
      "Loaded 90 data entries from data\\atlantic\\predictions\\perlin 3d 3_3\\run-20250627_100731-9kdck9mt\\files\\predictions\n",
      "Loaded 90 data entries from data\\atlantic\\predictions\\perlin 3d 3_3\\run-20250627_163627-bqpbs0zk\\files\\predictions\n",
      "Loaded 90 data entries from data\\atlantic\\predictions\\perlin 3d 3_3\\run-20250627_194954-dommgq1v\\files\\predictions\n",
      "Loaded 90 data entries from data\\atlantic\\predictions\\perlin 3d 3_3\\run-20250628_104937-sg864q0p\\files\\predictions\n",
      "Loaded 90 data entries from data\\atlantic\\samples\\test\n"
     ]
    },
    {
     "name": "stderr",
     "output_type": "stream",
     "text": [
      "c:\\ProgramData\\miniconda3\\envs\\tfg\\lib\\site-packages\\xarray\\core\\computation.py:824: RuntimeWarning: invalid value encountered in sqrt\n",
      "  result_data = func(*input_data)\n"
     ]
    },
    {
     "name": "stdout",
     "output_type": "stream",
     "text": [
      "Procesando rango de fechas: 2022-10-01 00:00:00 a 2022-12-31 00:00:00\n",
      "Loaded 90 data entries from data\\atlantic\\predictions\\perlin 3d 3_3\\run-20250627_012546-3jljvvek\\files\\predictions\n",
      "Loaded 90 data entries from data\\atlantic\\predictions\\perlin 3d 3_3\\run-20250627_100731-9kdck9mt\\files\\predictions\n",
      "Loaded 90 data entries from data\\atlantic\\predictions\\perlin 3d 3_3\\run-20250627_163627-bqpbs0zk\\files\\predictions\n",
      "Loaded 90 data entries from data\\atlantic\\predictions\\perlin 3d 3_3\\run-20250627_194954-dommgq1v\\files\\predictions\n",
      "Loaded 90 data entries from data\\atlantic\\predictions\\perlin 3d 3_3\\run-20250628_104937-sg864q0p\\files\\predictions\n",
      "Loaded 90 data entries from data\\atlantic\\samples\\test\n"
     ]
    },
    {
     "name": "stderr",
     "output_type": "stream",
     "text": [
      "c:\\ProgramData\\miniconda3\\envs\\tfg\\lib\\site-packages\\xarray\\core\\computation.py:824: RuntimeWarning: invalid value encountered in sqrt\n",
      "  result_data = func(*input_data)\n"
     ]
    }
   ],
   "source": [
    "process_and_save_metrics(date_ranges_2022, \"2022\", \"perlin_fractal\", directories_perlin_3_3)"
   ]
  },
  {
   "cell_type": "code",
   "execution_count": 21,
   "metadata": {},
   "outputs": [
    {
     "name": "stdout",
     "output_type": "stream",
     "text": [
      "Procesando rango de fechas: 2023-01-01 00:00:00 a 2023-03-31 00:00:00\n",
      "Loaded 88 data entries from data\\atlantic\\predictions\\perlin 3d 3_3\\run-20250627_012546-3jljvvek\\files\\predictions\n",
      "Loaded 88 data entries from data\\atlantic\\predictions\\perlin 3d 3_3\\run-20250627_100731-9kdck9mt\\files\\predictions\n",
      "Loaded 88 data entries from data\\atlantic\\predictions\\perlin 3d 3_3\\run-20250627_163627-bqpbs0zk\\files\\predictions\n",
      "Loaded 88 data entries from data\\atlantic\\predictions\\perlin 3d 3_3\\run-20250627_194954-dommgq1v\\files\\predictions\n",
      "Loaded 88 data entries from data\\atlantic\\predictions\\perlin 3d 3_3\\run-20250628_104937-sg864q0p\\files\\predictions\n",
      "Loaded 88 data entries from data\\atlantic\\samples\\test\n"
     ]
    },
    {
     "name": "stderr",
     "output_type": "stream",
     "text": [
      "c:\\ProgramData\\miniconda3\\envs\\tfg\\lib\\site-packages\\xarray\\core\\computation.py:824: RuntimeWarning: invalid value encountered in sqrt\n",
      "  result_data = func(*input_data)\n"
     ]
    },
    {
     "name": "stdout",
     "output_type": "stream",
     "text": [
      "Procesando rango de fechas: 2023-04-01 00:00:00 a 2023-06-30 00:00:00\n",
      "Loaded 89 data entries from data\\atlantic\\predictions\\perlin 3d 3_3\\run-20250627_012546-3jljvvek\\files\\predictions\n",
      "Loaded 89 data entries from data\\atlantic\\predictions\\perlin 3d 3_3\\run-20250627_100731-9kdck9mt\\files\\predictions\n",
      "Loaded 89 data entries from data\\atlantic\\predictions\\perlin 3d 3_3\\run-20250627_163627-bqpbs0zk\\files\\predictions\n",
      "Loaded 89 data entries from data\\atlantic\\predictions\\perlin 3d 3_3\\run-20250627_194954-dommgq1v\\files\\predictions\n",
      "Loaded 89 data entries from data\\atlantic\\predictions\\perlin 3d 3_3\\run-20250628_104937-sg864q0p\\files\\predictions\n",
      "Loaded 89 data entries from data\\atlantic\\samples\\test\n"
     ]
    },
    {
     "name": "stderr",
     "output_type": "stream",
     "text": [
      "c:\\ProgramData\\miniconda3\\envs\\tfg\\lib\\site-packages\\xarray\\core\\computation.py:824: RuntimeWarning: invalid value encountered in sqrt\n",
      "  result_data = func(*input_data)\n"
     ]
    },
    {
     "name": "stdout",
     "output_type": "stream",
     "text": [
      "Procesando rango de fechas: 2023-07-01 00:00:00 a 2023-09-08 00:00:00\n",
      "Loaded 68 data entries from data\\atlantic\\predictions\\perlin 3d 3_3\\run-20250627_012546-3jljvvek\\files\\predictions\n",
      "Loaded 68 data entries from data\\atlantic\\predictions\\perlin 3d 3_3\\run-20250627_100731-9kdck9mt\\files\\predictions\n",
      "Loaded 68 data entries from data\\atlantic\\predictions\\perlin 3d 3_3\\run-20250627_163627-bqpbs0zk\\files\\predictions\n",
      "Loaded 68 data entries from data\\atlantic\\predictions\\perlin 3d 3_3\\run-20250627_194954-dommgq1v\\files\\predictions\n",
      "Loaded 68 data entries from data\\atlantic\\predictions\\perlin 3d 3_3\\run-20250628_104937-sg864q0p\\files\\predictions\n",
      "Loaded 68 data entries from data\\atlantic\\samples\\test\n"
     ]
    },
    {
     "name": "stderr",
     "output_type": "stream",
     "text": [
      "c:\\ProgramData\\miniconda3\\envs\\tfg\\lib\\site-packages\\xarray\\core\\computation.py:824: RuntimeWarning: invalid value encountered in sqrt\n",
      "  result_data = func(*input_data)\n"
     ]
    },
    {
     "name": "stdout",
     "output_type": "stream",
     "text": [
      "Procesando rango de fechas: 2023-09-09 00:00:00 a 2023-12-17 00:00:00\n",
      "Loaded 98 data entries from data\\atlantic\\predictions\\perlin 3d 3_3\\run-20250627_012546-3jljvvek\\files\\predictions\n",
      "Loaded 98 data entries from data\\atlantic\\predictions\\perlin 3d 3_3\\run-20250627_100731-9kdck9mt\\files\\predictions\n",
      "Loaded 98 data entries from data\\atlantic\\predictions\\perlin 3d 3_3\\run-20250627_163627-bqpbs0zk\\files\\predictions\n",
      "Loaded 98 data entries from data\\atlantic\\predictions\\perlin 3d 3_3\\run-20250627_194954-dommgq1v\\files\\predictions\n",
      "Loaded 98 data entries from data\\atlantic\\predictions\\perlin 3d 3_3\\run-20250628_104937-sg864q0p\\files\\predictions\n",
      "Loaded 98 data entries from data\\atlantic\\samples\\test\n"
     ]
    },
    {
     "name": "stderr",
     "output_type": "stream",
     "text": [
      "c:\\ProgramData\\miniconda3\\envs\\tfg\\lib\\site-packages\\xarray\\core\\computation.py:824: RuntimeWarning: invalid value encountered in sqrt\n",
      "  result_data = func(*input_data)\n"
     ]
    }
   ],
   "source": [
    "process_and_save_metrics(date_ranges_2023, \"2023\", \"perlin_fractal\", directories_perlin_3_3)"
   ]
  },
  {
   "cell_type": "code",
   "execution_count": 22,
   "metadata": {},
   "outputs": [
    {
     "name": "stderr",
     "output_type": "stream",
     "text": [
      "C:\\Users\\Alejandro\\AppData\\Local\\Temp\\ipykernel_18920\\850520502.py:1: FutureWarning: In a future version of xarray decode_timedelta will default to False rather than None. To silence this warning, set decode_timedelta to True, False, or a 'CFTimedeltaCoder' instance.\n",
      "  metrics_2022 = xr.open_dataset(\"data/atlantic/predictions/ensemble_perlin_fractal_2022_manual.nc\")\n",
      "C:\\Users\\Alejandro\\AppData\\Local\\Temp\\ipykernel_18920\\850520502.py:2: FutureWarning: In a future version of xarray decode_timedelta will default to False rather than None. To silence this warning, set decode_timedelta to True, False, or a 'CFTimedeltaCoder' instance.\n",
      "  metrics_2023 = xr.open_dataset(\"data/atlantic/predictions/ensemble_perlin_fractal_2023_manual.nc\")\n"
     ]
    }
   ],
   "source": [
    "metrics_2022 = xr.open_dataset(\"data/atlantic/predictions/ensemble_perlin_fractal_2022_manual.nc\")\n",
    "metrics_2023 = xr.open_dataset(\"data/atlantic/predictions/ensemble_perlin_fractal_2023_manual.nc\")"
   ]
  },
  {
   "cell_type": "code",
   "execution_count": 23,
   "metadata": {},
   "outputs": [],
   "source": [
    "combined_metrics_perlin = xr.concat([metrics_2022, metrics_2023], dim=\"init_time\")\n",
    "\n",
    "combined_metrics_perlin.to_netcdf(\"data/atlantic/predictions/metrics_combined_perlin_3_3_manual.nc\")"
   ]
  },
  {
   "cell_type": "markdown",
   "metadata": {},
   "source": [
    "#### Perlin 3d 3x12_12"
   ]
  },
  {
   "cell_type": "code",
   "execution_count": 24,
   "metadata": {},
   "outputs": [],
   "source": [
    "directories_perlin_12_12 = [r\"data\\atlantic\\predictions\\perlin 3d 12_12\\run-20250630_095751-nutjqhw9\\files\\predictions\", r\"data\\atlantic\\predictions\\perlin 3d 12_12\\run-20250630_155653-lki2b3l0\\files\\predictions\", r\"data\\atlantic\\predictions\\perlin 3d 12_12\\run-20250630_192224-0oydiur0\\files\\predictions\", r\"data\\atlantic\\predictions\\perlin 3d 12_12\\run-20250630_214521-lu90qdqu\\files\\predictions\",\n",
    "r\"data\\atlantic\\predictions\\perlin 3d 12_12\\run-20250701_102212-hy3jgvnj\\files\\predictions\"] \n",
    "\n",
    "date_ranges_2022 = [\n",
    "    (pd.Timestamp(\"2022-01-01\"), pd.Timestamp(\"2022-03-31\")),\n",
    "    (pd.Timestamp(\"2022-04-01\"), pd.Timestamp(\"2022-06-30\")),\n",
    "    (pd.Timestamp(\"2022-07-01\"), pd.Timestamp(\"2022-09-30\")),\n",
    "    (pd.Timestamp(\"2022-10-01\"), pd.Timestamp(\"2022-12-31\"))\n",
    "]\n",
    "\n",
    "date_ranges_2023 = [\n",
    "    (pd.Timestamp(\"2023-01-01\"), pd.Timestamp(\"2023-03-31\")),\n",
    "    (pd.Timestamp(\"2023-04-01\"), pd.Timestamp(\"2023-06-30\")),\n",
    "    (pd.Timestamp(\"2023-07-01\"), pd.Timestamp(\"2023-09-08\")),\n",
    "    (pd.Timestamp(\"2023-09-09\"), pd.Timestamp(\"2023-12-17\"))\n",
    "]"
   ]
  },
  {
   "cell_type": "code",
   "execution_count": 25,
   "metadata": {},
   "outputs": [],
   "source": [
    "variables = [\"sst_temperature\"]\n",
    "directory = r\"data\\atlantic\\samples\\test\"\n",
    "extra_variables = [\"coordinates\", \"mask\"]\n",
    "extra_files = [r\"data\\atlantic\\static\\coordinates.npy\", r\"data\\atlantic\\static\\sea_mask.npy\"]    "
   ]
  },
  {
   "cell_type": "code",
   "execution_count": 26,
   "metadata": {},
   "outputs": [
    {
     "name": "stdout",
     "output_type": "stream",
     "text": [
      "Procesando rango de fechas: 2022-01-01 00:00:00 a 2022-03-31 00:00:00\n",
      "Loaded 88 data entries from data\\atlantic\\predictions\\perlin 3d 12_12\\run-20250630_095751-nutjqhw9\\files\\predictions\n",
      "Loaded 88 data entries from data\\atlantic\\predictions\\perlin 3d 12_12\\run-20250630_155653-lki2b3l0\\files\\predictions\n",
      "Loaded 88 data entries from data\\atlantic\\predictions\\perlin 3d 12_12\\run-20250630_192224-0oydiur0\\files\\predictions\n",
      "Loaded 88 data entries from data\\atlantic\\predictions\\perlin 3d 12_12\\run-20250630_214521-lu90qdqu\\files\\predictions\n",
      "Loaded 88 data entries from data\\atlantic\\predictions\\perlin 3d 12_12\\run-20250701_102212-hy3jgvnj\\files\\predictions\n",
      "Loaded 88 data entries from data\\atlantic\\samples\\test\n",
      "Procesando rango de fechas: 2022-04-01 00:00:00 a 2022-06-30 00:00:00\n",
      "Loaded 89 data entries from data\\atlantic\\predictions\\perlin 3d 12_12\\run-20250630_095751-nutjqhw9\\files\\predictions\n",
      "Loaded 89 data entries from data\\atlantic\\predictions\\perlin 3d 12_12\\run-20250630_155653-lki2b3l0\\files\\predictions\n",
      "Loaded 89 data entries from data\\atlantic\\predictions\\perlin 3d 12_12\\run-20250630_192224-0oydiur0\\files\\predictions\n",
      "Loaded 89 data entries from data\\atlantic\\predictions\\perlin 3d 12_12\\run-20250630_214521-lu90qdqu\\files\\predictions\n",
      "Loaded 89 data entries from data\\atlantic\\predictions\\perlin 3d 12_12\\run-20250701_102212-hy3jgvnj\\files\\predictions\n",
      "Loaded 89 data entries from data\\atlantic\\samples\\test\n",
      "Procesando rango de fechas: 2022-07-01 00:00:00 a 2022-09-30 00:00:00\n",
      "Loaded 90 data entries from data\\atlantic\\predictions\\perlin 3d 12_12\\run-20250630_095751-nutjqhw9\\files\\predictions\n",
      "Loaded 90 data entries from data\\atlantic\\predictions\\perlin 3d 12_12\\run-20250630_155653-lki2b3l0\\files\\predictions\n",
      "Loaded 90 data entries from data\\atlantic\\predictions\\perlin 3d 12_12\\run-20250630_192224-0oydiur0\\files\\predictions\n",
      "Loaded 90 data entries from data\\atlantic\\predictions\\perlin 3d 12_12\\run-20250630_214521-lu90qdqu\\files\\predictions\n",
      "Loaded 90 data entries from data\\atlantic\\predictions\\perlin 3d 12_12\\run-20250701_102212-hy3jgvnj\\files\\predictions\n",
      "Loaded 90 data entries from data\\atlantic\\samples\\test\n",
      "Procesando rango de fechas: 2022-10-01 00:00:00 a 2022-12-31 00:00:00\n",
      "Loaded 90 data entries from data\\atlantic\\predictions\\perlin 3d 12_12\\run-20250630_095751-nutjqhw9\\files\\predictions\n",
      "Loaded 90 data entries from data\\atlantic\\predictions\\perlin 3d 12_12\\run-20250630_155653-lki2b3l0\\files\\predictions\n",
      "Loaded 90 data entries from data\\atlantic\\predictions\\perlin 3d 12_12\\run-20250630_192224-0oydiur0\\files\\predictions\n",
      "Loaded 90 data entries from data\\atlantic\\predictions\\perlin 3d 12_12\\run-20250630_214521-lu90qdqu\\files\\predictions\n",
      "Loaded 90 data entries from data\\atlantic\\predictions\\perlin 3d 12_12\\run-20250701_102212-hy3jgvnj\\files\\predictions\n",
      "Loaded 90 data entries from data\\atlantic\\samples\\test\n"
     ]
    }
   ],
   "source": [
    "process_and_save_metrics(date_ranges_2022, \"2022\", \"perlin_3d_12_12\", directories_perlin_12_12)"
   ]
  },
  {
   "cell_type": "code",
   "execution_count": 27,
   "metadata": {},
   "outputs": [
    {
     "name": "stdout",
     "output_type": "stream",
     "text": [
      "Procesando rango de fechas: 2023-01-01 00:00:00 a 2023-03-31 00:00:00\n"
     ]
    },
    {
     "name": "stdout",
     "output_type": "stream",
     "text": [
      "Loaded 88 data entries from data\\atlantic\\predictions\\perlin 3d 12_12\\run-20250630_095751-nutjqhw9\\files\\predictions\n",
      "Loaded 88 data entries from data\\atlantic\\predictions\\perlin 3d 12_12\\run-20250630_155653-lki2b3l0\\files\\predictions\n",
      "Loaded 88 data entries from data\\atlantic\\predictions\\perlin 3d 12_12\\run-20250630_192224-0oydiur0\\files\\predictions\n",
      "Loaded 88 data entries from data\\atlantic\\predictions\\perlin 3d 12_12\\run-20250630_214521-lu90qdqu\\files\\predictions\n",
      "Loaded 88 data entries from data\\atlantic\\predictions\\perlin 3d 12_12\\run-20250701_102212-hy3jgvnj\\files\\predictions\n",
      "Loaded 88 data entries from data\\atlantic\\samples\\test\n",
      "Procesando rango de fechas: 2023-04-01 00:00:00 a 2023-06-30 00:00:00\n",
      "Loaded 89 data entries from data\\atlantic\\predictions\\perlin 3d 12_12\\run-20250630_095751-nutjqhw9\\files\\predictions\n",
      "Loaded 89 data entries from data\\atlantic\\predictions\\perlin 3d 12_12\\run-20250630_155653-lki2b3l0\\files\\predictions\n",
      "Loaded 89 data entries from data\\atlantic\\predictions\\perlin 3d 12_12\\run-20250630_192224-0oydiur0\\files\\predictions\n",
      "Loaded 89 data entries from data\\atlantic\\predictions\\perlin 3d 12_12\\run-20250630_214521-lu90qdqu\\files\\predictions\n",
      "Loaded 89 data entries from data\\atlantic\\predictions\\perlin 3d 12_12\\run-20250701_102212-hy3jgvnj\\files\\predictions\n",
      "Loaded 89 data entries from data\\atlantic\\samples\\test\n",
      "Procesando rango de fechas: 2023-07-01 00:00:00 a 2023-09-08 00:00:00\n",
      "Loaded 68 data entries from data\\atlantic\\predictions\\perlin 3d 12_12\\run-20250630_095751-nutjqhw9\\files\\predictions\n",
      "Loaded 68 data entries from data\\atlantic\\predictions\\perlin 3d 12_12\\run-20250630_155653-lki2b3l0\\files\\predictions\n",
      "Loaded 68 data entries from data\\atlantic\\predictions\\perlin 3d 12_12\\run-20250630_192224-0oydiur0\\files\\predictions\n",
      "Loaded 68 data entries from data\\atlantic\\predictions\\perlin 3d 12_12\\run-20250630_214521-lu90qdqu\\files\\predictions\n",
      "Loaded 68 data entries from data\\atlantic\\predictions\\perlin 3d 12_12\\run-20250701_102212-hy3jgvnj\\files\\predictions\n",
      "Loaded 68 data entries from data\\atlantic\\samples\\test\n",
      "Procesando rango de fechas: 2023-09-09 00:00:00 a 2023-12-17 00:00:00\n",
      "Loaded 98 data entries from data\\atlantic\\predictions\\perlin 3d 12_12\\run-20250630_095751-nutjqhw9\\files\\predictions\n",
      "Loaded 98 data entries from data\\atlantic\\predictions\\perlin 3d 12_12\\run-20250630_155653-lki2b3l0\\files\\predictions\n",
      "Loaded 98 data entries from data\\atlantic\\predictions\\perlin 3d 12_12\\run-20250630_192224-0oydiur0\\files\\predictions\n",
      "Loaded 98 data entries from data\\atlantic\\predictions\\perlin 3d 12_12\\run-20250630_214521-lu90qdqu\\files\\predictions\n",
      "Loaded 98 data entries from data\\atlantic\\predictions\\perlin 3d 12_12\\run-20250701_102212-hy3jgvnj\\files\\predictions\n",
      "Loaded 98 data entries from data\\atlantic\\samples\\test\n"
     ]
    }
   ],
   "source": [
    "process_and_save_metrics(date_ranges_2023, \"2023\", \"erlin_3d_12_12\", directories_perlin_12_12)"
   ]
  },
  {
   "cell_type": "code",
   "execution_count": 28,
   "metadata": {},
   "outputs": [
    {
     "name": "stderr",
     "output_type": "stream",
     "text": [
      "C:\\Users\\Alejandro\\AppData\\Local\\Temp\\ipykernel_18920\\3395133260.py:1: FutureWarning: In a future version of xarray decode_timedelta will default to False rather than None. To silence this warning, set decode_timedelta to True, False, or a 'CFTimedeltaCoder' instance.\n",
      "  metrics_2022 = xr.open_dataset(\"data/atlantic/predictions/ensemble_perlin_3d_12_12_2022_manual.nc\")\n",
      "C:\\Users\\Alejandro\\AppData\\Local\\Temp\\ipykernel_18920\\3395133260.py:2: FutureWarning: In a future version of xarray decode_timedelta will default to False rather than None. To silence this warning, set decode_timedelta to True, False, or a 'CFTimedeltaCoder' instance.\n",
      "  metrics_2023 = xr.open_dataset(\"data/atlantic/predictions/ensemble_erlin_3d_12_12_2023_manual.nc\")\n"
     ]
    }
   ],
   "source": [
    "metrics_2022 = xr.open_dataset(\"data/atlantic/predictions/ensemble_perlin_3d_12_12_2022_manual.nc\")\n",
    "metrics_2023 = xr.open_dataset(\"data/atlantic/predictions/ensemble_erlin_3d_12_12_2023_manual.nc\")"
   ]
  },
  {
   "cell_type": "code",
   "execution_count": 29,
   "metadata": {},
   "outputs": [],
   "source": [
    "combined_metrics_perlin_12_12 = xr.concat([metrics_2022, metrics_2023], dim=\"init_time\")\n",
    "\n",
    "combined_metrics_perlin_12_12.to_netcdf(\"data/atlantic/predictions/metrics_combined_perlin_12_12_manual.nc\")"
   ]
  },
  {
   "cell_type": "markdown",
   "metadata": {},
   "source": [
    "#### Perlin Fractal 2d 005 esc"
   ]
  },
  {
   "cell_type": "code",
   "execution_count": 30,
   "metadata": {},
   "outputs": [],
   "source": [
    "directories_perlin_fractal_2d_005 = [r\"data\\atlantic\\predictions\\perlin_fractal_2d_005\\run-20250702_164853-1qvul8qe\\files\\predictions\", r\"data\\atlantic\\predictions\\perlin_fractal_2d_005\\run-20250702_215342-znfh11ww\\files\\predictions\", r\"data\\atlantic\\predictions\\perlin_fractal_2d_005\\run-20250703_104826-tizjx546\\files\\predictions\", r\"data\\atlantic\\predictions\\perlin_fractal_2d_005\\run-20250703_172314-hx6thv8d\\files\\predictions\",\n",
    "r\"data\\atlantic\\predictions\\perlin_fractal_2d_005\\run-20250703_220724-k1bggi8k\\files\\predictions\"] \n",
    "\n",
    "date_ranges_2022 = [\n",
    "    (pd.Timestamp(\"2022-01-01\"), pd.Timestamp(\"2022-03-31\")),\n",
    "    (pd.Timestamp(\"2022-04-01\"), pd.Timestamp(\"2022-06-30\")),\n",
    "    (pd.Timestamp(\"2022-07-01\"), pd.Timestamp(\"2022-09-30\")),\n",
    "    (pd.Timestamp(\"2022-10-01\"), pd.Timestamp(\"2022-12-31\"))\n",
    "]\n",
    "\n",
    "date_ranges_2023 = [\n",
    "    (pd.Timestamp(\"2023-01-01\"), pd.Timestamp(\"2023-03-31\")),\n",
    "    (pd.Timestamp(\"2023-04-01\"), pd.Timestamp(\"2023-06-30\")),\n",
    "    (pd.Timestamp(\"2023-07-01\"), pd.Timestamp(\"2023-09-08\")),\n",
    "    (pd.Timestamp(\"2023-09-09\"), pd.Timestamp(\"2023-12-17\"))\n",
    "]"
   ]
  },
  {
   "cell_type": "code",
   "execution_count": 31,
   "metadata": {},
   "outputs": [],
   "source": [
    "variables = [\"sst_temperature\"]\n",
    "directory = r\"data\\atlantic\\samples\\test\"\n",
    "extra_variables = [\"coordinates\", \"mask\"]\n",
    "extra_files = [r\"data\\atlantic\\static\\coordinates.npy\", r\"data\\atlantic\\static\\sea_mask.npy\"]    "
   ]
  },
  {
   "cell_type": "code",
   "execution_count": 32,
   "metadata": {},
   "outputs": [
    {
     "name": "stdout",
     "output_type": "stream",
     "text": [
      "Procesando rango de fechas: 2022-01-01 00:00:00 a 2022-03-31 00:00:00\n",
      "Loaded 88 data entries from data\\atlantic\\predictions\\perlin_fractal_2d_005\\run-20250702_164853-1qvul8qe\\files\\predictions\n",
      "Loaded 88 data entries from data\\atlantic\\predictions\\perlin_fractal_2d_005\\run-20250702_215342-znfh11ww\\files\\predictions\n",
      "Loaded 88 data entries from data\\atlantic\\predictions\\perlin_fractal_2d_005\\run-20250703_104826-tizjx546\\files\\predictions\n",
      "Loaded 88 data entries from data\\atlantic\\predictions\\perlin_fractal_2d_005\\run-20250703_172314-hx6thv8d\\files\\predictions\n",
      "Loaded 88 data entries from data\\atlantic\\predictions\\perlin_fractal_2d_005\\run-20250703_220724-k1bggi8k\\files\\predictions\n",
      "Loaded 88 data entries from data\\atlantic\\samples\\test\n",
      "Procesando rango de fechas: 2022-04-01 00:00:00 a 2022-06-30 00:00:00\n",
      "Loaded 89 data entries from data\\atlantic\\predictions\\perlin_fractal_2d_005\\run-20250702_164853-1qvul8qe\\files\\predictions\n",
      "Loaded 89 data entries from data\\atlantic\\predictions\\perlin_fractal_2d_005\\run-20250702_215342-znfh11ww\\files\\predictions\n",
      "Loaded 89 data entries from data\\atlantic\\predictions\\perlin_fractal_2d_005\\run-20250703_104826-tizjx546\\files\\predictions\n",
      "Loaded 89 data entries from data\\atlantic\\predictions\\perlin_fractal_2d_005\\run-20250703_172314-hx6thv8d\\files\\predictions\n",
      "Loaded 89 data entries from data\\atlantic\\predictions\\perlin_fractal_2d_005\\run-20250703_220724-k1bggi8k\\files\\predictions\n",
      "Loaded 89 data entries from data\\atlantic\\samples\\test\n",
      "Procesando rango de fechas: 2022-07-01 00:00:00 a 2022-09-30 00:00:00\n",
      "Loaded 90 data entries from data\\atlantic\\predictions\\perlin_fractal_2d_005\\run-20250702_164853-1qvul8qe\\files\\predictions\n",
      "Loaded 90 data entries from data\\atlantic\\predictions\\perlin_fractal_2d_005\\run-20250702_215342-znfh11ww\\files\\predictions\n",
      "Loaded 90 data entries from data\\atlantic\\predictions\\perlin_fractal_2d_005\\run-20250703_104826-tizjx546\\files\\predictions\n",
      "Loaded 90 data entries from data\\atlantic\\predictions\\perlin_fractal_2d_005\\run-20250703_172314-hx6thv8d\\files\\predictions\n",
      "Loaded 90 data entries from data\\atlantic\\predictions\\perlin_fractal_2d_005\\run-20250703_220724-k1bggi8k\\files\\predictions\n",
      "Loaded 90 data entries from data\\atlantic\\samples\\test\n",
      "Procesando rango de fechas: 2022-10-01 00:00:00 a 2022-12-31 00:00:00\n",
      "Loaded 90 data entries from data\\atlantic\\predictions\\perlin_fractal_2d_005\\run-20250702_164853-1qvul8qe\\files\\predictions\n",
      "Loaded 90 data entries from data\\atlantic\\predictions\\perlin_fractal_2d_005\\run-20250702_215342-znfh11ww\\files\\predictions\n",
      "Loaded 90 data entries from data\\atlantic\\predictions\\perlin_fractal_2d_005\\run-20250703_104826-tizjx546\\files\\predictions\n",
      "Loaded 90 data entries from data\\atlantic\\predictions\\perlin_fractal_2d_005\\run-20250703_172314-hx6thv8d\\files\\predictions\n",
      "Loaded 90 data entries from data\\atlantic\\predictions\\perlin_fractal_2d_005\\run-20250703_220724-k1bggi8k\\files\\predictions\n",
      "Loaded 90 data entries from data\\atlantic\\samples\\test\n"
     ]
    }
   ],
   "source": [
    "process_and_save_metrics(date_ranges_2022, \"2022\", \"perlin_fractal_2d_005\", directories_perlin_fractal_2d_005)"
   ]
  },
  {
   "cell_type": "code",
   "execution_count": 33,
   "metadata": {},
   "outputs": [
    {
     "name": "stdout",
     "output_type": "stream",
     "text": [
      "Procesando rango de fechas: 2023-01-01 00:00:00 a 2023-03-31 00:00:00\n",
      "Loaded 88 data entries from data\\atlantic\\predictions\\perlin_fractal_2d_005\\run-20250702_164853-1qvul8qe\\files\\predictions\n",
      "Loaded 88 data entries from data\\atlantic\\predictions\\perlin_fractal_2d_005\\run-20250702_215342-znfh11ww\\files\\predictions\n",
      "Loaded 88 data entries from data\\atlantic\\predictions\\perlin_fractal_2d_005\\run-20250703_104826-tizjx546\\files\\predictions\n",
      "Loaded 88 data entries from data\\atlantic\\predictions\\perlin_fractal_2d_005\\run-20250703_172314-hx6thv8d\\files\\predictions\n",
      "Loaded 88 data entries from data\\atlantic\\predictions\\perlin_fractal_2d_005\\run-20250703_220724-k1bggi8k\\files\\predictions\n",
      "Loaded 88 data entries from data\\atlantic\\samples\\test\n",
      "Procesando rango de fechas: 2023-04-01 00:00:00 a 2023-06-30 00:00:00\n",
      "Loaded 89 data entries from data\\atlantic\\predictions\\perlin_fractal_2d_005\\run-20250702_164853-1qvul8qe\\files\\predictions\n",
      "Loaded 89 data entries from data\\atlantic\\predictions\\perlin_fractal_2d_005\\run-20250702_215342-znfh11ww\\files\\predictions\n",
      "Loaded 89 data entries from data\\atlantic\\predictions\\perlin_fractal_2d_005\\run-20250703_104826-tizjx546\\files\\predictions\n",
      "Loaded 89 data entries from data\\atlantic\\predictions\\perlin_fractal_2d_005\\run-20250703_172314-hx6thv8d\\files\\predictions\n",
      "Loaded 89 data entries from data\\atlantic\\predictions\\perlin_fractal_2d_005\\run-20250703_220724-k1bggi8k\\files\\predictions\n",
      "Loaded 89 data entries from data\\atlantic\\samples\\test\n",
      "Procesando rango de fechas: 2023-07-01 00:00:00 a 2023-09-08 00:00:00\n",
      "Loaded 68 data entries from data\\atlantic\\predictions\\perlin_fractal_2d_005\\run-20250702_164853-1qvul8qe\\files\\predictions\n",
      "Loaded 68 data entries from data\\atlantic\\predictions\\perlin_fractal_2d_005\\run-20250702_215342-znfh11ww\\files\\predictions\n",
      "Loaded 68 data entries from data\\atlantic\\predictions\\perlin_fractal_2d_005\\run-20250703_104826-tizjx546\\files\\predictions\n",
      "Loaded 68 data entries from data\\atlantic\\predictions\\perlin_fractal_2d_005\\run-20250703_172314-hx6thv8d\\files\\predictions\n",
      "Loaded 68 data entries from data\\atlantic\\predictions\\perlin_fractal_2d_005\\run-20250703_220724-k1bggi8k\\files\\predictions\n",
      "Loaded 68 data entries from data\\atlantic\\samples\\test\n",
      "Procesando rango de fechas: 2023-09-09 00:00:00 a 2023-12-17 00:00:00\n",
      "Loaded 98 data entries from data\\atlantic\\predictions\\perlin_fractal_2d_005\\run-20250702_164853-1qvul8qe\\files\\predictions\n",
      "Loaded 98 data entries from data\\atlantic\\predictions\\perlin_fractal_2d_005\\run-20250702_215342-znfh11ww\\files\\predictions\n",
      "Loaded 98 data entries from data\\atlantic\\predictions\\perlin_fractal_2d_005\\run-20250703_104826-tizjx546\\files\\predictions\n",
      "Loaded 98 data entries from data\\atlantic\\predictions\\perlin_fractal_2d_005\\run-20250703_172314-hx6thv8d\\files\\predictions\n",
      "Loaded 98 data entries from data\\atlantic\\predictions\\perlin_fractal_2d_005\\run-20250703_220724-k1bggi8k\\files\\predictions\n",
      "Loaded 98 data entries from data\\atlantic\\samples\\test\n"
     ]
    }
   ],
   "source": [
    "process_and_save_metrics(date_ranges_2023, \"2023\", \"perlin_fractal_2d_005\", directories_perlin_fractal_2d_005)"
   ]
  },
  {
   "cell_type": "code",
   "execution_count": 34,
   "metadata": {},
   "outputs": [
    {
     "name": "stderr",
     "output_type": "stream",
     "text": [
      "C:\\Users\\Alejandro\\AppData\\Local\\Temp\\ipykernel_18920\\1159309481.py:1: FutureWarning: In a future version of xarray decode_timedelta will default to False rather than None. To silence this warning, set decode_timedelta to True, False, or a 'CFTimedeltaCoder' instance.\n",
      "  metrics_2022 = xr.open_dataset(\"data/atlantic/predictions/ensemble_perlin_fractal_2d_005_2022_manual.nc\")\n",
      "C:\\Users\\Alejandro\\AppData\\Local\\Temp\\ipykernel_18920\\1159309481.py:2: FutureWarning: In a future version of xarray decode_timedelta will default to False rather than None. To silence this warning, set decode_timedelta to True, False, or a 'CFTimedeltaCoder' instance.\n",
      "  metrics_2023 = xr.open_dataset(\"data/atlantic/predictions/ensemble_perlin_fractal_2d_005_2023_manual.nc\")\n"
     ]
    }
   ],
   "source": [
    "metrics_2022 = xr.open_dataset(\"data/atlantic/predictions/ensemble_perlin_fractal_2d_005_2022_manual.nc\")\n",
    "metrics_2023 = xr.open_dataset(\"data/atlantic/predictions/ensemble_perlin_fractal_2d_005_2023_manual.nc\")"
   ]
  },
  {
   "cell_type": "code",
   "execution_count": 35,
   "metadata": {},
   "outputs": [],
   "source": [
    "combined_metrics_perlin_fractal_2d_005  = xr.concat([metrics_2022, metrics_2023], dim=\"init_time\")\n",
    "\n",
    "combined_metrics_perlin_fractal_2d_005.to_netcdf(\"data/atlantic/predictions/metrics_combined_perlin_fractal_2d_005_manual.nc\")"
   ]
  },
  {
   "cell_type": "markdown",
   "metadata": {},
   "source": [
    "### Cargar datasets"
   ]
  },
  {
   "cell_type": "code",
   "execution_count": 2,
   "metadata": {},
   "outputs": [
    {
     "name": "stderr",
     "output_type": "stream",
     "text": [
      "C:\\Users\\Alejandro\\AppData\\Local\\Temp\\ipykernel_5760\\3038219952.py:1: FutureWarning: In a future version of xarray decode_timedelta will default to False rather than None. To silence this warning, set decode_timedelta to True, False, or a 'CFTimedeltaCoder' instance.\n",
      "  combined_metrics_gaussian = xr.open_dataset(\"data/atlantic/predictions/metrics_combined_gaussian_manual.nc\")\n",
      "C:\\Users\\Alejandro\\AppData\\Local\\Temp\\ipykernel_5760\\3038219952.py:2: FutureWarning: In a future version of xarray decode_timedelta will default to False rather than None. To silence this warning, set decode_timedelta to True, False, or a 'CFTimedeltaCoder' instance.\n",
      "  combined_metrics_gaussian_01 = xr.open_dataset(\"data/atlantic/predictions/metrics_combined_gaussian_01_manual.nc\")\n",
      "C:\\Users\\Alejandro\\AppData\\Local\\Temp\\ipykernel_5760\\3038219952.py:3: FutureWarning: In a future version of xarray decode_timedelta will default to False rather than None. To silence this warning, set decode_timedelta to True, False, or a 'CFTimedeltaCoder' instance.\n",
      "  combined_metrics_perlin_3_3 = xr.open_dataset(\"data/atlantic/predictions/metrics_combined_perlin_3_3_manual.nc\")\n",
      "C:\\Users\\Alejandro\\AppData\\Local\\Temp\\ipykernel_5760\\3038219952.py:4: FutureWarning: In a future version of xarray decode_timedelta will default to False rather than None. To silence this warning, set decode_timedelta to True, False, or a 'CFTimedeltaCoder' instance.\n",
      "  combined_metrics_perlin_12_12 = xr.open_dataset(\"data/atlantic/predictions/metrics_combined_perlin_12_12_manual.nc\")\n",
      "C:\\Users\\Alejandro\\AppData\\Local\\Temp\\ipykernel_5760\\3038219952.py:5: FutureWarning: In a future version of xarray decode_timedelta will default to False rather than None. To silence this warning, set decode_timedelta to True, False, or a 'CFTimedeltaCoder' instance.\n",
      "  combined_metrics_perlin_fractal_2d_005 = xr.open_dataset(\"data/atlantic/predictions/metrics_combined_perlin_fractal_2d_005_manual.nc\")\n"
     ]
    }
   ],
   "source": [
    "combined_metrics_gaussian = xr.open_dataset(\"data/atlantic/predictions/metrics_combined_gaussian_manual.nc\")\n",
    "combined_metrics_gaussian_01 = xr.open_dataset(\"data/atlantic/predictions/metrics_combined_gaussian_01_manual.nc\")\n",
    "combined_metrics_perlin_3_3 = xr.open_dataset(\"data/atlantic/predictions/metrics_combined_perlin_3_3_manual.nc\")\n",
    "combined_metrics_perlin_12_12 = xr.open_dataset(\"data/atlantic/predictions/metrics_combined_perlin_12_12_manual.nc\")\n",
    "combined_metrics_perlin_fractal_2d_005 = xr.open_dataset(\"data/atlantic/predictions/metrics_combined_perlin_fractal_2d_005_manual.nc\")"
   ]
  },
  {
   "cell_type": "markdown",
   "metadata": {},
   "source": [
    "### Comparación gráficas"
   ]
  },
  {
   "cell_type": "code",
   "execution_count": 8,
   "metadata": {},
   "outputs": [
    {
     "data": {
      "text/plain": [
       "<Figure size 1200x500 with 0 Axes>"
      ]
     },
     "metadata": {},
     "output_type": "display_data"
    },
    {
     "data": {
      "image/png": "[encoded data removed]",
      "text/plain": [
       "<Figure size 1200x500 with 1 Axes>"
      ]
     },
     "metadata": {},
     "output_type": "display_data"
    }
   ],
   "source": [
    "lead_days = combined_metrics_perlin_3_3[\"lead_time\"] / np.timedelta64(1, 'D')\n",
    "\n",
    "metrics = [\"spread_skill_ratio_unb.sst_temperature\"]\n",
    "\n",
    "fig = plt.figure(figsize=(12, 5))\n",
    "\n",
    "for idx, metric in enumerate(metrics):\n",
    "\n",
    "    fig, ax = plt.subplots(figsize=(12, 5))\n",
    "\n",
    "    ax.axhline(\n",
    "        y=1,\n",
    "        color=\"black\",\n",
    "        linestyle=\"--\",\n",
    "        linewidth=1,\n",
    "    )\n",
    "\n",
    "    ax.plot(\n",
    "        lead_days,\n",
    "        combined_metrics_perlin_3_3[metric].mean(dim=\"init_time\"),\n",
    "        label=\"P_res_2x3x3\",\n",
    "        marker='^',\n",
    "        color=\"#9467bd\",\n",
    "        linewidth=2\n",
    "    )\n",
    "    ax.plot(\n",
    "        lead_days,\n",
    "        combined_metrics_perlin_12_12[metric].mean(dim=\"init_time\"),\n",
    "        label=\"P_res_2x12x12\",\n",
    "        marker='^',\n",
    "        color=\"#d62728\",\n",
    "        linewidth=2\n",
    "    )\n",
    "    ax.plot(\n",
    "        lead_days,\n",
    "        combined_metrics_perlin_fractal_2d_005[metric].mean(dim=\"init_time\"),\n",
    "        label=r\"PF_res_15x15_005_$\\alpha$\",\n",
    "        marker='x',\n",
    "        color=\"#17becf\",\n",
    "        linewidth=2\n",
    "    )\n",
    "    ax.plot(\n",
    "        lead_days,\n",
    "        combined_metrics_gaussian[metric].mean(dim=\"init_time\"),\n",
    "        label=\"Gaussiano ($\\mu$=0, $\\sigma$=0.1)\",\n",
    "        marker='o',\n",
    "        color=\"#1f77b4\",\n",
    "        linewidth=2\n",
    "    )\n",
    "    ax.plot(\n",
    "        lead_days,\n",
    "        combined_metrics_gaussian_01[metric].mean(dim=\"init_time\"),\n",
    "        label=\"Gaussiano ($\\mu$=0, $\\sigma$=0.01)\",\n",
    "        marker='o',\n",
    "        color=\"#ff7f0e\",\n",
    "        linewidth=2\n",
    "    )\n",
    "\n",
    "    ax.set_xlabel(\"Horizonte de predicción (días)\", fontsize=12)\n",
    "    ax.set_ylabel(dict_metric_names[metric], fontsize=12)\n",
    "    ax.tick_params(labelsize=11)\n",
    "    ax.grid(True)\n",
    "\n",
    "handles, labels = ax.get_legend_handles_labels()\n",
    "fig.legend(\n",
    "    handles,\n",
    "    labels,\n",
    "    loc='lower center',\n",
    "    fontsize=12,\n",
    "    ncol=3,\n",
    "    frameon=False,\n",
    "    bbox_to_anchor=(0.5, -0.05)\n",
    ")\n",
    "\n",
    "plt.tight_layout(rect=[0, 0.08, 1, 0.95])\n",
    "plt.savefig(\"metrics/real_test/comparacion_SSR_probabilidad.svg\", format=\"svg\", bbox_inches='tight')\n",
    "plt.show()"
   ]
  }
 ],
 "metadata": {
  "kernelspec": {
   "display_name": "tfg",
   "language": "python",
   "name": "python3"
  },
  "language_info": {
   "codemirror_mode": {
    "name": "ipython",
    "version": 3
   },
   "file_extension": ".py",
   "mimetype": "text/x-python",
   "name": "python",
   "nbconvert_exporter": "python",
   "pygments_lexer": "ipython3",
   "version": "3.10.16"
  }
 },
 "nbformat": 4,
 "nbformat_minor": 2
}
